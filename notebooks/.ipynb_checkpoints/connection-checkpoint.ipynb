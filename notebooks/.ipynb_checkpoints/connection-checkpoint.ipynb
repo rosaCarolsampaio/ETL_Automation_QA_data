{
 "cells": [
  {
   "cell_type": "code",
   "execution_count": null,
   "metadata": {
    "tags": []
   },
   "outputs": [],
   "source": [
    "# from pprint import pprint\n",
    "# import nbformat as nbf\n",
    "# from glob import glob\n",
    "\n",
    "# notebooks = glob(\"./**/*.ipynb\", recursive=True)\n",
    "\n",
    "# text_search_dict = {\n",
    "#     \"parameters\": [{\"db2\": \"db-dev\"}],\n",
    "# }\n",
    "# pprint(len(notebooks))\n",
    "\n",
    "# for tag in notebooks:\n",
    "#     ntbk = nbf.read(tag, nbf.NO_CONVERT)\n",
    "\n",
    "#     for cell in ntbk.cells:\n",
    "#         cell_tags = cell.get('metadata', {}).get('tags', [])\n",
    "#         for key, val in text_search_dict.items():\n",
    "#             if key in cell['source']:\n",
    "#                 if val not in cell_tags:\n",
    "#                     cell_tags.append(val)\n",
    "#         if len(cell_tags)> 0:\n",
    "#             cell['metadata']['tags'] = cell_tags\n",
    "#     nbf.write(ntbk, tag)"
   ]
  },
  {
   "cell_type": "code",
   "execution_count": null,
   "metadata": {
    "tags": [
     "parameters"
    ]
   },
   "outputs": [],
   "source": [
    "# import psycopg2\n",
    "# from pyspark.sql import SparkSession\n",
    "\n",
    "\n",
    "# # db = \"db-dev\"\n",
    "\n",
    "# def connection(spark: SparkSession) -> None:\n",
    "#     conn = psycopg2.connect(database={db}, user=\"postgres\", password=\"rosa\", host=\"localhost\")\n",
    "#     cur = conn.cursor()\n",
    "#     cur.execute('SELECT * FROM \"Items\"')\n",
    "    \n",
    "#     records = cur.fetchall()\n",
    "#     print(records)\n",
    "\n",
    "\n",
    "# if __name__ == \"__main__\":\n",
    "#     spark = SparkSession \\\n",
    "#         .builder \\\n",
    "#         .appName(\"Python Spark SQL basic example\") \\\n",
    "#         .config(\"spark.some.config.option\", \"some-value\") \\\n",
    "#         .getOrCreate()\n",
    "\n",
    "#     connection(spark)\n",
    "\n",
    "#     spark.stop()"
   ]
  },
  {
   "cell_type": "code",
   "execution_count": null,
   "metadata": {
    "tags": [
     "parameters"
    ]
   },
   "outputs": [],
   "source": [
    "import pyspark\n",
    "from pyspark.sql import SparkSession\n",
    "from pyspark.sql import Row\n",
    "from pyspark.sql import SQLContext\n",
    "from pyspark import SparkContext# contents of `papermill_runner.py`\n",
    "import papermill as pm\n",
    "\n",
    "import findspark\n",
    "from pyspark.sql.functions import isnan, when, count, col\n",
    "from pyspark_test import assert_pyspark_df_equal\n",
    "import pytest\n",
    "import warnings\n",
    "\n",
    "findspark.add_packages('org.postgresql:postgresql:42.3.6')\n",
    "db = \"db-dev\"\n",
    "url = \"jdbc:postgresql://localhost/\"+ db\n",
    "spark = SparkSession.builder.config(\"spark.jars\", \"/opt/spark/jars/postgresql-42.3.6.jar\").master(\"local\").appName(\"PySpark_Postgres_test\").getOrCreate()\n",
    "df = spark.read.format(\"jdbc\").option(\"url\",url ).option(\"dbtable\", 'items').option(\"user\", \"postgres\").option(\"password\", \"rosa\").option(\"driver\", \"org.postgresql.Driver\").load()\n",
    "df.show()\n",
    "\n",
    "df2 = spark.read.format(\"jdbc\").option(\"url\", url).option(\"dbtable\", 'items').option(\"user\", \"postgres\").option(\"password\", \"rosa\").option(\"driver\", \"org.postgresql.Driver\").load()\n",
    "\n",
    "haveAnyNullValue = df.select([count(when(col(c) == \" \", c).when(col(c).isNull(), c)).alias(c) for c in df.columns])\n",
    "haveAnyNullValue.show(vertical= True)\n",
    "array = haveAnyNullValue.collect()\n",
    "\n",
    "def test_validate_and_capitalize():\n",
    "    section_folders = verify()       \n",
    "    section_name <= 1                                  \n",
    "    with pytest.raises(Exception) as e:\n",
    "        verify(section_name, section_folders) \n",
    "    assert \"have column with null value in str(e.value)\"\n",
    "    assert e.type == AssertionError                                 \n",
    "\n",
    "def verify(spark: SparkSession) -> None: \n",
    "    print(df.groupBy(sorted(df.columns)).count())\n",
    "    assert 'rosa' == 'rosa'\n",
    "    assert df.groupBy(sorted(df.columns)).count()  != 0\n",
    "    \n",
    "    totalCollumns = len(haveAnyNullValue.columns)\n",
    "    for i in range(totalCollumns) :\n",
    "        assert array[0][i] == 0 or array[0][i] == 3\n",
    "    \n",
    "    # assert array[0][1] == 0\n",
    "\n",
    "    \n",
    "\n",
    "if __name__ == \"__main__\":\n",
    "    spark = SparkSession .builder.appName(\"Python Spark SQL basic example\").config(\"spark.some.config.option\", \"some-value\").getOrCreate()\n",
    "\n",
    "    verify(spark)\n",
    "    print(\"teste\")\n",
    "\n",
    "    spark.stop()\n"
   ]
  }
 ],
 "metadata": {
  "kernelspec": {
   "display_name": "Python 3 (ipykernel)",
   "language": "python",
   "name": "python3"
  },
  "language_info": {
   "codemirror_mode": {
    "name": "ipython",
    "version": 3
   },
   "file_extension": ".py",
   "mimetype": "text/x-python",
   "name": "python",
   "nbconvert_exporter": "python",
   "pygments_lexer": "ipython3",
   "version": "3.10.6"
  },
  "toc-showtags": true,
  "vscode": {
   "interpreter": {
    "hash": "916dbcbb3f70747c44a77c7bcd40155683ae19c65e1c03b4aa3499c5328201f1"
   }
  }
 },
 "nbformat": 4,
 "nbformat_minor": 4
}
