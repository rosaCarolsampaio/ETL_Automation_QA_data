{
 "cells": [
  {
   "cell_type": "code",
   "execution_count": 1,
   "metadata": {
    "tags": [
     "db-dev"
    ]
   },
   "outputs": [
    {
     "name": "stdout",
     "output_type": "stream",
     "text": [
      "[(1, 1245, 'playstation', 1.5, datetime.datetime(2022, 9, 14, 15, 46, 10, 297000, tzinfo=datetime.timezone.utc), datetime.datetime(2022, 9, 14, 15, 46, 10, 297000, tzinfo=datetime.timezone.utc)), (2, 1245, 'playstation', 1.5, datetime.datetime(2022, 9, 15, 18, 16, 25, 861000, tzinfo=datetime.timezone.utc), datetime.datetime(2022, 9, 15, 18, 16, 25, 861000, tzinfo=datetime.timezone.utc)), (3, 1245, 'playstation', 1.5, datetime.datetime(2022, 9, 15, 18, 16, 25, 892000, tzinfo=datetime.timezone.utc), datetime.datetime(2022, 9, 15, 18, 16, 25, 892000, tzinfo=datetime.timezone.utc)), (4, 1246, 'phone', 8.5, datetime.datetime(2022, 9, 15, 18, 16, 43, 639000, tzinfo=datetime.timezone.utc), datetime.datetime(2022, 9, 15, 18, 16, 43, 639000, tzinfo=datetime.timezone.utc))]\n"
     ]
    }
   ],
   "source": [
    "import psycopg2\n",
    "\n",
    "conn = psycopg2.connect(\"dbname=db-dev user=postgres password=rosa host=localhost\")\n",
    "cur = conn.cursor()\n",
    "cur.execute('SELECT * FROM \"Items\"')\n",
    "\n",
    "records = cur.fetchall()\n",
    "print(records)"
   ]
  },
  {
   "cell_type": "code",
   "execution_count": 1,
   "metadata": {},
   "outputs": [
    {
     "name": "stdout",
     "output_type": "stream",
     "text": [
      "22/09/16 14:48:13 WARN Utils: Your hostname, gitlab resolves to a loopback address: 127.0.1.1; using 192.168.1.11 instead (on interface wlp0s20f3)\n",
      "22/09/16 14:48:13 WARN Utils: Set SPARK_LOCAL_IP if you need to bind to another address\n"
     ]
    },
    {
     "name": "stderr",
     "output_type": "stream",
     "text": [
      "Setting default log level to \"WARN\".\n",
      "To adjust logging level use sc.setLogLevel(newLevel). For SparkR, use setLogLevel(newLevel).\n"
     ]
    },
    {
     "name": "stdout",
     "output_type": "stream",
     "text": [
      "22/09/16 14:48:14 WARN NativeCodeLoader: Unable to load native-hadoop library for your platform... using builtin-java classes where applicable\n",
      "22/09/16 14:48:14 WARN Utils: Service 'SparkUI' could not bind on port 4040. Attempting port 4041.\n",
      "+----+-------+\n",
      "| age|   name|\n",
      "+----+-------+\n",
      "|null|Michael|\n",
      "|  30|   Andy|\n",
      "|  19| Justin|\n",
      "+----+-------+\n",
      "\n",
      "+-------+\n",
      "|   name|\n",
      "+-------+\n",
      "|Michael|\n",
      "|   Andy|\n",
      "| Justin|\n",
      "+-------+\n",
      "\n",
      "root\n",
      " |-- age: long (nullable = true)\n",
      " |-- name: string (nullable = true)\n",
      "\n"
     ]
    }
   ],
   "source": [
    "from pyspark.sql import SparkSession\n",
    "from pyspark.sql import Row\n",
    "from pyspark.sql.types import StringType, StructType, StructField\n",
    "\n",
    "def basic_df_example(spark: SparkSession) -> None:\n",
    "    df = spark.read.json(\"/home/rosasilva/Downloads/spark-3.3.0-bin-hadoop3/examples/src/main/resources/people.json\")\n",
    "    df.show()\n",
    "    df.select(\"name\").show()\n",
    "    df.printSchema()\n",
    "\n",
    "\n",
    "if __name__ == \"__main__\":\n",
    "    spark = SparkSession \\\n",
    "        .builder \\\n",
    "        .appName(\"Python Spark SQL basic example\") \\\n",
    "        .config(\"spark.some.config.option\", \"some-value\") \\\n",
    "        .getOrCreate()\n",
    "\n",
    "    basic_df_example(spark)\n",
    "#schema_inference_example(spark)\n",
    "   # programmatic_schema_example(spark)\n",
    "\n",
    "    spark.stop()"
   ]
  },
  {
   "cell_type": "code",
   "execution_count": 44,
   "metadata": {
    "tags": [
     "db-dev"
    ]
   },
   "outputs": [
    {
     "name": "stdout",
     "output_type": "stream",
     "text": [
      "root\n",
      " |-- id: integer (nullable = true)\n",
      " |-- name: string (nullable = true)\n",
      " |-- is_healthy: boolean (nullable = true)\n",
      "\n",
      "+--------------------+\n",
      "|                name|\n",
      "+--------------------+\n",
      "|iPhone           ...|\n",
      "|coffee           ...|\n",
      "|                 ...|\n",
      "|água             ...|\n",
      "|playstation      ...|\n",
      "+--------------------+\n",
      "\n",
      "+--------------------+----------+\n",
      "|                name|is_healthy|\n",
      "+--------------------+----------+\n",
      "|iPhone           ...|      null|\n",
      "|coffee           ...|      null|\n",
      "|                 ...|      null|\n",
      "|água             ...|      null|\n",
      "|playstation      ...|      true|\n",
      "+--------------------+----------+\n",
      "\n",
      "+---+----+----------+\n",
      "| id|name|is_healthy|\n",
      "+---+----+----------+\n",
      "|  0|   0|         4|\n",
      "+---+----+----------+\n",
      "\n",
      "+-----+-----+----------+\n",
      "|field|count|is_healthy|\n",
      "+-----+-----+----------+\n",
      "|    0|    0|         4|\n",
      "+-----+-----+----------+\n",
      "\n"
     ]
    }
   ],
   "source": [
    "import pyspark\n",
    "from pyspark.sql import SparkSession\n",
    "from pyspark.sql import Row\n",
    "from pyspark.sql import SQLContext\n",
    "from pyspark import SparkContext\n",
    "from pyspark.sql import DataFrameReader\n",
    "import findspark\n",
    "from pyspark.sql.functions import isnan, when, count, col\n",
    "\n",
    "\n",
    "findspark.add_packages('org.postgresql:postgresql:42.3.6')\n",
    "\n",
    "spark = SparkSession.builder.config(\"spark.jars\", \"/opt/spark/jars/postgresql-42.3.6.jar\").master(\"local\").appName(\"PySpark_Postgres_test\").getOrCreate()\n",
    "df = spark.read.format(\"jdbc\").option(\"url\", \"jdbc:postgresql://localhost/db-dev\").option(\"dbtable\", 'items').option(\"user\", \"postgres\").option(\"password\", \"rosa\").option(\"driver\", \"org.postgresql.Driver\").load()\n",
    "df.count()\n",
    "df.printSchema()\n",
    "df.select(\"name\").show()\n",
    "df.select(df['name'], df['is_healthy']).show()\n",
    "sum = df.select([count(when(col(c) == \"\", c).when(col(c).isNull(), c)).alias(c) for c in df.columns]).show()\n",
    "\n",
    "sum = df.select([count(when(col(c) == \"\", c).when(col(c).isNull(), c)).alias(c) for c in df.columns]).collect()\n",
    "\n",
    "# #Plot\n",
    "from matplotlib import pyplot \n",
    "df = spark.createDataFrame(sum ,['field','count'])\n",
    "df.show()\n",
    "# indexes = list(range(len(sum)))\n",
    "\n",
    "# values = [r['count'] for r in df]\n",
    "# labels = [r['field'] for r in df]\n",
    "\n",
    "# bar_width = 0.35\n",
    "# pyplot.bar(indexes, values)\n",
    "# #add labels\n",
    "# labelidx = [i + bar_width for i in indexes] \n",
    "# pyplot.xticks(labelidx, labels)\n",
    "# pyplot.show()\n",
    "\n"
   ]
  },
  {
   "cell_type": "code",
   "execution_count": null,
   "metadata": {
    "tags": [
     "db-dev"
    ]
   },
   "outputs": [],
   "source": [
    "import pyspark\n",
    "from pyspark.sql import SparkSession\n",
    "from pyspark.sql import Row\n",
    "from pyspark.sql import SQLContext\n",
    "from pyspark import SparkContext\n",
    "from pyspark.sql import DataFrameReader\n",
    "import findspark\n",
    "from pyspark.sql.functions import isnan, when, count, col\n",
    "\n",
    "findspark.add_packages('org.postgresql:postgresql:42.3.6')\n",
    "\n",
    "spark = SparkSession.builder.config(\"spark.jars\", \"/opt/spark/jars/postgresql-42.3.6.jar\").master(\"local\").appName(\"PySpark_Postgres_test\").getOrCreate()\n",
    "df = spark.read.format(\"jdbc\").option(\"url\", \"jdbc:postgresql://localhost/db-dev\").option(\"dbtable\", 'items').option(\"user\", \"postgres\").option(\"password\", \"rosa\").option(\"driver\", \"org.postgresql.Driver\").load()\n",
    "df.count()\n",
    "df.printSchema()\n",
    "df.select(\"name\").show()\n",
    "df.select(df['name'], df['is_healthy']).show()\n",
    "\n",
    "sum = df.select([count(when(col(c) == \"\", c).when(col(c).isNull(), c)).alias(c) for c in df.columns]).show()\n",
    "sum = df.select([count(when(col(c) == \"\", c).when(col(c).isNull(), c)).alias(c) for c in df.columns]).collect()\n",
    "\n"
   ]
  },
  {
   "cell_type": "code",
   "execution_count": 39,
   "metadata": {},
   "outputs": [
    {
     "data": {
      "image/png": "[encoded data removed]",
      "text/plain": [
       "<Figure size 640x480 with 1 Axes>"
      ]
     },
     "metadata": {},
     "output_type": "display_data"
    }
   ],
   "source": [
    "from matplotlib import pyplot \n",
    "l = [(  'name',    1)\n",
    "     ,('is_healthy'         ,   4)]\n",
    "df = spark.createDataFrame(l,['field','count'])\n",
    "#Add values to a list (not recommend when you have a huge dataframe)\n",
    "bla = df.collect()\n",
    "#create a numeric value for every label\n",
    "indexes = list(range(len(bla)))\n",
    "\n",
    "#split words and counts to different lists \n",
    "values = [r['count'] for r in bla]\n",
    "labels = [r['field'] for r in bla]\n",
    "\n",
    "#Plotting\n",
    "bar_width = 0.35\n",
    "\n",
    "pyplot.bar(indexes, values)\n",
    "\n",
    "#add labels\n",
    "labelidx = [i + bar_width for i in indexes] \n",
    "pyplot.xticks(labelidx, labels)\n",
    "pyplot.title(\"Nulls\")\n",
    "pyplot.show()"
   ]
  },
  {
   "cell_type": "code",
   "execution_count": null,
   "metadata": {},
   "outputs": [],
   "source": [
    "#Step 2\n",
    "#Validar que nas colunas (PK) location_key e buk_region da tabela dw.dim_str_location não há dados a null.\n",
    "\n",
    "\n",
    "\n",
    "#create temp dataframe for nulls validation\n",
    "from pyspark.sql.functions import when, col, count\n",
    "\n",
    "df_test = sqlContext.table(\"dw.dim_str_location\")\n",
    "df_test.select([count(when(col(c) == \"\", c).when(col(c).isNull(), c)).alias(c) for c in df_test.columns]).show(vertical = True)"
   ]
  }
 ],
 "metadata": {
  "kernelspec": {
   "display_name": "Python 3.10.4 64-bit",
   "language": "python",
   "name": "python3"
  },
  "language_info": {
   "codemirror_mode": {
    "name": "ipython",
    "version": 3
   },
   "file_extension": ".py",
   "mimetype": "text/x-python",
   "name": "python",
   "nbconvert_exporter": "python",
   "pygments_lexer": "ipython3",
   "version": "3.10.4"
  },
  "vscode": {
   "interpreter": {
    "hash": "916dbcbb3f70747c44a77c7bcd40155683ae19c65e1c03b4aa3499c5328201f1"
   }
  }
 },
 "nbformat": 4,
 "nbformat_minor": 2
}
